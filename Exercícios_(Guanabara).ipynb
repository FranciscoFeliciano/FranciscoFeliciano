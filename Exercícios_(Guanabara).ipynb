{
  "nbformat": 4,
  "nbformat_minor": 0,
  "metadata": {
    "colab": {
      "provenance": [],
      "authorship_tag": "ABX9TyMDOtUZZ7XuN3Gr24PIVksM",
      "include_colab_link": true
    },
    "kernelspec": {
      "name": "python3",
      "display_name": "Python 3"
    },
    "language_info": {
      "name": "python"
    }
  },
  "cells": [
    {
      "cell_type": "markdown",
      "metadata": {
        "id": "view-in-github",
        "colab_type": "text"
      },
      "source": [
        "<a href=\"https://colab.research.google.com/github/FranciscoFeliciano/FranciscoFeliciano/blob/main/Exerc%C3%ADcios_(Guanabara).ipynb\" target=\"_parent\"><img src=\"https://colab.research.google.com/assets/colab-badge.svg\" alt=\"Open In Colab\"/></a>"
      ]
    },
    {
      "cell_type": "code",
      "execution_count": 1,
      "metadata": {
        "id": "yDFBspBk4rri",
        "colab": {
          "base_uri": "https://localhost:8080/"
        },
        "outputId": "873f1923-c71a-47c9-c08d-38ec50ef42f1"
      },
      "outputs": [
        {
          "output_type": "stream",
          "name": "stdout",
          "text": [
            "Olá,Mundo!\n"
          ]
        }
      ],
      "source": [
        "#Exercício 001 (crie um programa \"Olá Mundo\")\n",
        "\n",
        "print('Olá,Mundo!')"
      ]
    },
    {
      "cell_type": "code",
      "source": [
        "#Exercício 002 ( Respondendo ao Usuário )\n",
        "nome = input('Olá, qual é seu nome ? ')\n",
        "print(f'É um prazer te conhecer ,{nome}!')\n",
        "enviar = input(f'Você sabe que quem lhe enviou isso acha você uma pessoa especial ne ? {nome} ')\n",
        "if enviar == 'sim':\n",
        "  print('Jamais entregaria algo ruim pra você meu anjo ')\n",
        "else:\n",
        "  print('É claro que não sabe, é uma jamanta quadrada mais burro que uma porta ')"
      ],
      "metadata": {
        "id": "7Zs9i2cZ7L27"
      },
      "execution_count": null,
      "outputs": []
    },
    {
      "cell_type": "code",
      "source": [
        "#Exercício 003 (Somando dois números)\n",
        "Num_1 = int(input('Escreva um Número : '))\n",
        "Num_2 = int(input('Escreva outro Número : '))\n",
        "Som = Num_1 + Num_2\n",
        "print(f'A soma entre o número {Num_1} e o número {Num_2} é = {Som}')"
      ],
      "metadata": {
        "id": "ekX8DrCy1tgl"
      },
      "execution_count": null,
      "outputs": []
    },
    {
      "cell_type": "code",
      "source": [
        "#Exercício 004 (Dissecando uma Variável)\n",
        "algo = input('Digite algo: ')\n",
        "print(algo,'O tipo primitivo desse algo é ', type(algo))\n",
        "print(algo,'É alfanumérico ? ',algo.isalnum())\n",
        "print(algo,'É Númérico ? ',algo.isnumeric())\n",
        "print(algo,'É alfabético ? ',algo.isalpha())\n",
        "print(algo,'É totalmente Maiúsculo ? ',algo.isupper())\n",
        "print(algo,'Possui números de 0 a 9?', algo.isdecimal())"
      ],
      "metadata": {
        "id": "06vxkZWy69r9"
      },
      "execution_count": null,
      "outputs": []
    }
  ]
}
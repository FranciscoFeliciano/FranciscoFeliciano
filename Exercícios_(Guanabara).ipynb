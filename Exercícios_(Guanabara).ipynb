{
  "nbformat": 4,
  "nbformat_minor": 0,
  "metadata": {
    "colab": {
      "provenance": [],
      "authorship_tag": "ABX9TyP0nPwW7iD2igIzlilyUYRY"
    },
    "kernelspec": {
      "name": "python3",
      "display_name": "Python 3"
    },
    "language_info": {
      "name": "python"
    }
  },
  "cells": [
    {
      "cell_type": "code",
      "execution_count": null,
      "metadata": {
        "id": "yDFBspBk4rri"
      },
      "outputs": [],
      "source": [
        "#Exercício 001 (crie um programa \"Olá Mundo\")\n",
        "\n",
        "print('Olá,Mundo!')"
      ]
    },
    {
      "cell_type": "code",
      "source": [
        "#Exercício 002 ( Respondendo ao Usuário )\n",
        "nome = input('Olá, qual é seu nome ? ')\n",
        "print(f'É um prazer te conhecer ,{nome}!')\n",
        "enviar = input(f'Você sabe que quem lhe enviou isso acha você uma pessoa especial ne ? {nome} ')\n",
        "if enviar == 'sim':\n",
        "  print('Jamais entregaria algo ruim pra você meu anjo ')\n",
        "else:\n",
        "  print('É claro que não sabe, é uma jamanta quadrada mais burro que uma porta ')"
      ],
      "metadata": {
        "id": "7Zs9i2cZ7L27"
      },
      "execution_count": null,
      "outputs": []
    }
  ]
}
{
  "nbformat": 4,
  "nbformat_minor": 0,
  "metadata": {
    "colab": {
      "provenance": [],
      "authorship_tag": "ABX9TyOv/ym/PxIYKr0WPJ169T0r",
      "include_colab_link": true
    },
    "kernelspec": {
      "name": "python3",
      "display_name": "Python 3"
    },
    "language_info": {
      "name": "python"
    }
  },
  "cells": [
    {
      "cell_type": "markdown",
      "metadata": {
        "id": "view-in-github",
        "colab_type": "text"
      },
      "source": [
        "<a href=\"https://colab.research.google.com/github/FranciscoFeliciano/FranciscoFeliciano/blob/main/Exerc%C3%ADcios_(Guanabara).ipynb\" target=\"_parent\"><img src=\"https://colab.research.google.com/assets/colab-badge.svg\" alt=\"Open In Colab\"/></a>"
      ]
    },
    {
      "cell_type": "code",
      "execution_count": null,
      "metadata": {
        "id": "yDFBspBk4rri",
        "colab": {
          "base_uri": "https://localhost:8080/"
        },
        "outputId": "873f1923-c71a-47c9-c08d-38ec50ef42f1"
      },
      "outputs": [
        {
          "output_type": "stream",
          "name": "stdout",
          "text": [
            "Olá,Mundo!\n"
          ]
        }
      ],
      "source": [
        "#Exercício 001 (crie um programa \"Olá Mundo\")\n",
        "\n",
        "print('Olá,Mundo!')"
      ]
    },
    {
      "cell_type": "code",
      "source": [
        "#Exercício 002 ( Respondendo ao Usuário )\n",
        "nome = input('Olá, qual é seu nome ? ')\n",
        "print(f'É um prazer te conhecer ,{nome}!')\n",
        "enviar = input(f'Você sabe que quem lhe enviou isso acha você uma pessoa especial ne ? {nome} ')\n",
        "if enviar == 'sim':\n",
        "  print('Jamais entregaria algo ruim pra você meu anjo ')\n",
        "else:\n",
        "  print('É claro que não sabe, é uma jamanta quadrada mais burro que uma porta ')"
      ],
      "metadata": {
        "id": "7Zs9i2cZ7L27"
      },
      "execution_count": null,
      "outputs": []
    },
    {
      "cell_type": "code",
      "source": [
        "#Exercício 003 (Somando dois números)\n",
        "Num_1 = int(input('Escreva um Número : '))\n",
        "Num_2 = int(input('Escreva outro Número : '))\n",
        "Som = Num_1 + Num_2\n",
        "print(f'A soma entre o número {Num_1} e o número {Num_2} é = {Som}')"
      ],
      "metadata": {
        "id": "ekX8DrCy1tgl"
      },
      "execution_count": null,
      "outputs": []
    },
    {
      "cell_type": "code",
      "source": [
        "#Exercício 004 (Dissecando uma Variável)\n",
        "algo = input('Digite algo: ')\n",
        "print(algo,'O tipo primitivo desse algo é ', type(algo))\n",
        "print(algo,'É alfanumérico ? ',algo.isalnum())\n",
        "print(algo,'É Númérico ? ',algo.isnumeric())\n",
        "print(algo,'É alfabético ? ',algo.isalpha())\n",
        "print(algo,'É totalmente Maiúsculo ? ',algo.isupper())\n",
        "print(algo,'Possui números de 0 a 9?', algo.isdecimal())"
      ],
      "metadata": {
        "id": "06vxkZWy69r9"
      },
      "execution_count": null,
      "outputs": []
    },
    {
      "cell_type": "code",
      "source": [
        "#Exercício 005 (Antecessor e Sucessor)\n",
        "n1 = int(input('Digite um Número : '))\n",
        "suc = n1 + 1\n",
        "ant = n1 - 1\n",
        "print(f'O número que você digitou é {n1}\\nO valor que é sucessor a ele é o {suc}, e o antecessor é {ant}')"
      ],
      "metadata": {
        "id": "7-99fWhRBWD7"
      },
      "execution_count": null,
      "outputs": []
    },
    {
      "cell_type": "code",
      "source": [
        "#Exercício 006 (Dobro, Triplo, RaizQ)\n",
        "n1 = float(input('Digite um Número : '))\n",
        "dob = n1 * 2\n",
        "trip = n1 * 3\n",
        "rq = n1**(1/2)\n",
        "print(f'O número que você digitou é: {n1} \\nO dobro desse número é: {dob} \\nO triplo é: {trip} \\ne sua Raiz Quadrada é {rq :.3f}  ')"
      ],
      "metadata": {
        "id": "4tekd8wICFLY"
      },
      "execution_count": null,
      "outputs": []
    },
    {
      "cell_type": "code",
      "source": [
        "#Exercício 007 (Média Aritmética)\n",
        "n1 = float(input('Digite sua Nota no primeiro semestre: '))\n",
        "n2 = float(input('Digite sua Nota do segundo semestre: '))\n",
        "m = (n1 + n2) / 2\n",
        "print(f'Sua média no ano foi {m:.2f} ')"
      ],
      "metadata": {
        "id": "zxmduNE8DbHY"
      },
      "execution_count": null,
      "outputs": []
    },
    {
      "cell_type": "code",
      "source": [
        "#Exercício 008 (Conversor de Medidas)\n",
        "m = float(input('Digite quantos metros de fita você quer: '))\n",
        "cm = m * 100\n",
        "mm = m * 1000\n",
        "print(f'Você pediu {m} metros de fita,\\nCorresponde a {cm} centímetros \\nOu {mm} milímetros')"
      ],
      "metadata": {
        "id": "HusL5KC3GmnY"
      },
      "execution_count": null,
      "outputs": []
    },
    {
      "cell_type": "code",
      "source": [
        "#Exercício 009 (Tabuada)\n",
        "n1 = int(input('Digite o Número para tabuada: '))\n",
        "print(f'Tabuada\\n{n1} x 1 = ', n1 * 1,f'\\n{n1} x 2 = ', n1 * 2,f'\\n{n1} x 3 = ', n1 * 3,f'\\n{n1} x 4 = ', n1 * 4,f'\\n{n1} x 5 = ', n1 * 5,f'\\n{n1} x 6 = ', n1 * 6 ,f'\\n{n1} x 7 = ', n1 * 7,f'\\n{n1} x 8 = ', n1 * 8,f'\\n{n1} x 9 = ', n1 * 9,f'\\n{n1} x 10 = ', n1 * 10 )"
      ],
      "metadata": {
        "id": "87tNqvlZG9rc"
      },
      "execution_count": null,
      "outputs": []
    },
    {
      "cell_type": "code",
      "source": [
        "#Exercício 010 (Conversor de Moedas)\n",
        "d = 4.90\n",
        "n = float(input('Escreva a quantia em reais que você tem R$:'))\n",
        "print(f'Com essa quantia você consegue comprar US$:{n / d :.2f} ')"
      ],
      "metadata": {
        "id": "sveLY8IOINFo"
      },
      "execution_count": null,
      "outputs": []
    },
    {
      "cell_type": "code",
      "source": [
        "#Exercício 011 (Pintando Parede)\n",
        "l = float(input('Digite a largura que tem a parede da sua casa: '))\n",
        "a = float(input('Digite a altura da parede da sua casa: '))\n",
        "b = a * l\n",
        "print(f'A área dessa parede é : {b}m². \\nA quantidade de tinta necessária para pintar essa parede são {b / 2:.2f} litros de tinta')"
      ],
      "metadata": {
        "id": "rkDHFoHlJc7j"
      },
      "execution_count": null,
      "outputs": []
    },
    {
      "cell_type": "code",
      "source": [
        "#Exercício 012 (Calculando descontos)\n",
        "p = float(input('Digite o preço de um produto: '))\n",
        "pd = p*95/100\n",
        "print(f'O preço deste produto com 5% de desconto será: {pd:.2f}')"
      ],
      "metadata": {
        "id": "aIeiI7gHLeMT"
      },
      "execution_count": null,
      "outputs": []
    },
    {
      "cell_type": "code",
      "source": [
        "#Exercício 013 (Reajuste Salarial)\n",
        "salario =float(input('Digite seu salário: '))\n",
        "a = salario*115/100\n",
        "print(f'O seu Reajuste salarial foi de 15% de aumento você irá receber: {a:.2f}')"
      ],
      "metadata": {
        "id": "xB2ZXnZgPdgW"
      },
      "execution_count": null,
      "outputs": []
    }
  ]
}
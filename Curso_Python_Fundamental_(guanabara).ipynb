{
  "nbformat": 4,
  "nbformat_minor": 0,
  "metadata": {
    "colab": {
      "provenance": [],
      "authorship_tag": "ABX9TyPKNJxMGTfoUtTqL2Z5UvLx"
    },
    "kernelspec": {
      "name": "python3",
      "display_name": "Python 3"
    },
    "language_info": {
      "name": "python"
    }
  },
  "cells": [
    {
      "cell_type": "code",
      "execution_count": null,
      "metadata": {
        "id": "Nk-ldHtgIX_R"
      },
      "outputs": [],
      "source": [
        "#============ Testes (Aula 04) =========\n",
        "print(\"Olá,Mundo!\")\n",
        "\n",
        "print(7 + 4)\n",
        "Nome = input('Qual é o seu nome ? ')\n",
        "Idade = input('Qaul é a sua idade ? ' )\n",
        "Peso = input('Quanto você pesa ? ' )\n"
      ]
    },
    {
      "cell_type": "code",
      "source": [
        "#============= Desafio 1 (Aula 04) ==============================\n",
        "Bem_Vindo = input('Olá! Qual o seu nome ? ')\n",
        "\n",
        "print('Olá',Bem_Vindo ,' Prazer em te conhecer ! ' )"
      ],
      "metadata": {
        "id": "J-NPrKFAQR1t"
      },
      "execution_count": null,
      "outputs": []
    },
    {
      "cell_type": "code",
      "source": [
        "#=============== Desafio 2 (Aula 04) ============================\n",
        "Dia_Nascimento = input('Em qual dia você nasceu ? ')\n",
        "Mes_Nascimento = input('Em que mês ? ')\n",
        "Ano_Nascimento = input('Em que Ano ? ')\n",
        "\n",
        "print('Você nasceu no dia ',Dia_Nascimento, 'de', Mes_Nascimento, 'do ano',Ano_Nascimento, 'Correto ? ')"
      ],
      "metadata": {
        "id": "l91v1IgNQqRf"
      },
      "execution_count": null,
      "outputs": []
    },
    {
      "cell_type": "code",
      "source": [
        "#=============== Desafio 3 (Aula 04) ===========================\n",
        "N1 = int(input('Primeiro Número : '))\n",
        "N2= int(input('Segundo Numero : '))\n",
        "S = N1 + N2\n",
        "print('A soma entre os dois números é : ', S)"
      ],
      "metadata": {
        "id": "3ejc8BKWS1wD"
      },
      "execution_count": null,
      "outputs": []
    },
    {
      "cell_type": "code",
      "source": [
        "#====== Aula 06 Teste ==========\n",
        "n = (input('Digite algo '))\n",
        "print(n)"
      ],
      "metadata": {
        "id": "h_sSyk1bx9rj"
      },
      "execution_count": null,
      "outputs": []
    },
    {
      "cell_type": "code",
      "source": [
        "#================= Desafio 01 (Aula 06) =======================\n",
        "Num_1 = int(input('Escreva um Número : '))\n",
        "Num_2 = int(input('Escreva outro Número : '))\n",
        "Som = Num_1 + Num_2\n",
        "print(f'A soma entre o número {Num_1} e o número 4{Num_2} é = {Som}')"
      ],
      "metadata": {
        "id": "HoldvIn1BsYu"
      },
      "execution_count": null,
      "outputs": []
    },
    {
      "cell_type": "code",
      "source": [
        "#================= Desafio 02 (Aula 06) =======================\n",
        "algo = input('Digite algo: ')\n",
        "print(algo,'Qual o tipo ele ultiliza?', type(algo))\n",
        "print(algo,'Possui Números ou Letras ? ',algo.isalnum())\n",
        "print(algo,'Possui somente letras ? ',algo.isalpha())\n",
        "print(algo,'É totalmente Maiúsculo ? ',algo.isupper())\n",
        "print(algo,'Possui números de 0 a 9?', algo.isdecimal())"
      ],
      "metadata": {
        "id": "j6vP9ZIADfIy"
      },
      "execution_count": null,
      "outputs": []
    }
  ]
}
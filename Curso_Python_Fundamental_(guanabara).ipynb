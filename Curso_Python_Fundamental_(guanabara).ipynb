{
  "nbformat": 4,
  "nbformat_minor": 0,
  "metadata": {
    "colab": {
      "provenance": [],
      "authorship_tag": "ABX9TyM35ydqxaAnmzyvt7fnmX2J",
      "include_colab_link": true
    },
    "kernelspec": {
      "name": "python3",
      "display_name": "Python 3"
    },
    "language_info": {
      "name": "python"
    }
  },
  "cells": [
    {
      "cell_type": "markdown",
      "metadata": {
        "id": "view-in-github",
        "colab_type": "text"
      },
      "source": [
        "<a href=\"https://colab.research.google.com/github/FranciscoFeliciano/FranciscoFeliciano/blob/main/Curso_Python_Fundamental_(guanabara).ipynb\" target=\"_parent\"><img src=\"https://colab.research.google.com/assets/colab-badge.svg\" alt=\"Open In Colab\"/></a>"
      ]
    },
    {
      "cell_type": "code",
      "execution_count": null,
      "metadata": {
        "id": "Nk-ldHtgIX_R"
      },
      "outputs": [],
      "source": [
        "#============ Testes (Aula 01) =========\n",
        "print(\"Olá,Mundo!\")\n",
        "\n",
        "print(7 + 4)\n",
        "Nome = input('Qual é o seu nome ? ')\n",
        "Idade = input('Qaul é a sua idade ? ' )\n",
        "Peso = input('Quanto você pesa ? ' )\n"
      ]
    },
    {
      "cell_type": "code",
      "source": [
        "#============= Desafio 1 (Aula 01) ==============================\n",
        "Bem_Vindo = input('Olá! Qual o seu nome ? ')\n",
        "\n",
        "print('Olá',Bem_Vindo ,' Prazer em te conhecer ! ' )"
      ],
      "metadata": {
        "id": "J-NPrKFAQR1t"
      },
      "execution_count": null,
      "outputs": []
    },
    {
      "cell_type": "code",
      "source": [
        "#=============== Desafio 2 (Aula 01) ============================\n",
        "Dia_Nascimento = input('Em qual dia você nasceu ? ')\n",
        "Mes_Nascimento = input('Em que mês ? ')\n",
        "Ano_Nascimento = input('Em que Ano ? ')\n",
        "\n",
        "print('Você nasceu no dia ',Dia_Nascimento, 'de', Mes_Nascimento, 'do ano',Ano_Nascimento, 'Correto ? ')"
      ],
      "metadata": {
        "id": "l91v1IgNQqRf"
      },
      "execution_count": null,
      "outputs": []
    },
    {
      "cell_type": "code",
      "source": [
        "#=============== Desafio 3 (Aula 01) ===========================\n",
        "N1 = int(input('Primeiro Número : '))\n",
        "N2= int(input('Segundo Numero : '))\n",
        "S = N1 + N2\n",
        "print('A soma entre os dois números é : ', S)"
      ],
      "metadata": {
        "id": "3ejc8BKWS1wD"
      },
      "execution_count": null,
      "outputs": []
    }
  ]
}
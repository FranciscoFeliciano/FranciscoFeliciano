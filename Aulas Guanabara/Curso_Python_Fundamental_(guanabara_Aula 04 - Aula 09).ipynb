{
  "nbformat": 4,
  "nbformat_minor": 0,
  "metadata": {
    "colab": {
      "provenance": [],
      "authorship_tag": "ABX9TyOM8pCUiPEuShgZcrBVdz36",
      "include_colab_link": true
    },
    "kernelspec": {
      "name": "python3",
      "display_name": "Python 3"
    },
    "language_info": {
      "name": "python"
    }
  },
  "cells": [
    {
      "cell_type": "markdown",
      "metadata": {
        "id": "view-in-github",
        "colab_type": "text"
      },
      "source": [
        "<a href=\"https://colab.research.google.com/github/FranciscoFeliciano/FranciscoFeliciano/blob/main/Curso_Python_Fundamental_(guanabara).ipynb\" target=\"_parent\"><img src=\"https://colab.research.google.com/assets/colab-badge.svg\" alt=\"Open In Colab\"/></a>"
      ]
    },
    {
      "cell_type": "markdown",
      "source": [
        "# **Aula 04**"
      ],
      "metadata": {
        "id": "SvzlVwNMCz8J"
      }
    },
    {
      "cell_type": "code",
      "execution_count": null,
      "metadata": {
        "id": "Nk-ldHtgIX_R"
      },
      "outputs": [],
      "source": [
        "#============ Testes (Aula 04) =========\n",
        "print(\"Olá,Mundo!\")\n",
        "\n",
        "print(7 + 4)\n",
        "Nome = input('Qual é o seu nome ? ')\n",
        "Idade = input('Qaul é a sua idade ? ' )\n",
        "Peso = input('Quanto você pesa ? ' )\n"
      ]
    },
    {
      "cell_type": "code",
      "source": [
        "#============= Desafio 1 (Aula 04) ==============================\n",
        "Bem_Vindo = input('Olá! Qual o seu nome ? ')\n",
        "\n",
        "print('Olá',Bem_Vindo ,' Prazer em te conhecer ! ' )"
      ],
      "metadata": {
        "id": "J-NPrKFAQR1t"
      },
      "execution_count": null,
      "outputs": []
    },
    {
      "cell_type": "code",
      "source": [
        "#=============== Desafio 2 (Aula 04) ============================\n",
        "Dia_Nascimento = input('Em qual dia você nasceu ? ')\n",
        "Mes_Nascimento = input('Em que mês ? ')\n",
        "Ano_Nascimento = input('Em que Ano ? ')\n",
        "\n",
        "print('Você nasceu no dia ',Dia_Nascimento, 'de', Mes_Nascimento, 'do ano',Ano_Nascimento, 'Correto ? ')"
      ],
      "metadata": {
        "id": "l91v1IgNQqRf"
      },
      "execution_count": null,
      "outputs": []
    },
    {
      "cell_type": "code",
      "source": [
        "#=============== Desafio 3 (Aula 04) ===========================\n",
        "N1 = int(input('Primeiro Número : '))\n",
        "N2= int(input('Segundo Numero : '))\n",
        "S = N1 + N2\n",
        "print('A soma entre os dois números é : ', S)"
      ],
      "metadata": {
        "id": "3ejc8BKWS1wD"
      },
      "execution_count": null,
      "outputs": []
    },
    {
      "cell_type": "markdown",
      "source": [
        "# **Aula 06**"
      ],
      "metadata": {
        "id": "rIfWEu82DAeg"
      }
    },
    {
      "cell_type": "code",
      "source": [
        "#====== Aula 06 Teste ==========\n",
        "n = (input('Digite algo '))\n",
        "print(n)"
      ],
      "metadata": {
        "id": "h_sSyk1bx9rj"
      },
      "execution_count": null,
      "outputs": []
    },
    {
      "cell_type": "code",
      "source": [
        "#================= Desafio 01 (Aula 06) =======================\n",
        "Num_1 = int(input('Escreva um Número : '))\n",
        "Num_2 = int(input('Escreva outro Número : '))\n",
        "Som = Num_1 + Num_2\n",
        "print(f'A soma entre o número {Num_1} e o número 4{Num_2} é = {Som}')"
      ],
      "metadata": {
        "id": "HoldvIn1BsYu"
      },
      "execution_count": null,
      "outputs": []
    },
    {
      "cell_type": "code",
      "source": [
        "#================= Desafio 02 (Aula 06) =======================\n",
        "algo = input('Digite algo: ')\n",
        "print(algo,'O tipo primitivo desse algo é ', type(algo))\n",
        "print(algo,'É alfanumérico ? ',algo.isalnum())\n",
        "print(algo,'É Númérico ? ',algo.isnumeric())\n",
        "print(algo,'É alfabético ? ',algo.isalpha())\n",
        "print(algo,'É totalmente Maiúsculo ? ',algo.isupper())\n",
        "print(algo,'Possui números de 0 a 9?', algo.isdecimal())"
      ],
      "metadata": {
        "id": "j6vP9ZIADfIy"
      },
      "execution_count": null,
      "outputs": []
    },
    {
      "cell_type": "markdown",
      "source": [
        "# **Aula 07**"
      ],
      "metadata": {
        "id": "oP9ktLhHDJow"
      }
    },
    {
      "cell_type": "code",
      "source": [
        "#====== Bases (Aula 07) ===============\n",
        "#Operadores Aritméticos\n",
        "# 5 + 2 == 7\n",
        "# 5 - 2 == 3\n",
        "# 5 * 2 == 10\n",
        "# 5 / 2 == 2.5\n",
        "# 5 // 2 == 2  #Divisão Inteira\n",
        "# 5 % 2 == 1   #Resto da Divisão\n",
        "# 36**(1/2) == 6 #Raiz Quadrada\n",
        "# 8**(1/3) == 2 #Raiz Cúbica\n",
        "\n",
        "# Ordem de Precedência\n",
        "# 1 == ()\n",
        "# 2 == **\n",
        "# 3 == * , / , // , %\n",
        "# 4 == +, -"
      ],
      "metadata": {
        "id": "1SUQ_A4zDM0m"
      },
      "execution_count": null,
      "outputs": []
    },
    {
      "cell_type": "code",
      "source": [
        "#============ TESTES (Aula 07)==========================\n",
        "n1 = int(input('Digite um valor: '))\n",
        "n2 = int(input('Outro Valor: '))\n",
        "s = n1 + n2\n",
        "m = n1 * n2\n",
        "d = n1 / n2\n",
        "di = n1 // n2\n",
        "e = n1 ** n2\n",
        "print(f'A soma é {s}, o produto é {m}, a divisão é {d :.2f}', end=' ')\n",
        "print(f'Esse é o valor da divisão inteira {di} e esse é o valor da potência {e} ')"
      ],
      "metadata": {
        "id": "rnH9KHQwE2-k"
      },
      "execution_count": null,
      "outputs": []
    },
    {
      "cell_type": "code",
      "source": [
        "#================= Desafio 01 (Aula 07)====================\n",
        "n1 = int(input('Digite um Número : '))\n",
        "suc = n1 + 1\n",
        "ant = n1 - 1\n",
        "print(f'O número que você digitou é {n1}\\nO valor que é sucessor a ele é o {suc}, e o antecessor é {ant}')\n"
      ],
      "metadata": {
        "id": "td2VGkezXEOK"
      },
      "execution_count": null,
      "outputs": []
    },
    {
      "cell_type": "code",
      "source": [
        "#================= Desafio 02 (Aula 07)=====================\n",
        "n1 = float(input('Digite um Número : '))\n",
        "dob = n1 * 2\n",
        "trip = n1 * 3\n",
        "rq = n1**(1/2)\n",
        "print(f'O número que você digitou é: {n1} \\nO dobro desse número é: {dob} \\nO triplo é: {trip} \\ne sua Raiz Quadrada é {rq :.3f}  ')"
      ],
      "metadata": {
        "id": "CSEHNE8vYboF"
      },
      "execution_count": null,
      "outputs": []
    },
    {
      "cell_type": "code",
      "source": [
        "#================ Desafio 03 (Aula 07)======================\n",
        "n1 = float(input('Digite sua Nota no primeiro semestre: '))\n",
        "n2 = float(input('Digite sua Nota do segundo semestre: '))\n",
        "m = (n1 + n2) / 2\n",
        "print(f'Sua média no ano foi {m} ')"
      ],
      "metadata": {
        "id": "LoJs_ADwZ_YR"
      },
      "execution_count": null,
      "outputs": []
    },
    {
      "cell_type": "code",
      "source": [
        "#================ Desafio 04 (Aula 07)=======================\n",
        "m = float(input('Digite quantos metros de fita você quer: '))\n",
        "cm = m * 100\n",
        "mm = m * 1000\n",
        "print(f'Você pediu {m} metros de fita,\\nOque equivale a {cm} centímetros \\nOu {mm} milímetros')"
      ],
      "metadata": {
        "id": "tplkI-5LbKNn"
      },
      "execution_count": null,
      "outputs": []
    },
    {
      "cell_type": "code",
      "source": [
        "#============== Desafio 05 ( Aula 07)=========================\n",
        "n1 = float(input('Digite o Número para tabuada: '))\n",
        "print(f'Tabuada\\n{n1} x 1 = ', n1 * 1,f'\\n{n1} x 2 = ', n1 * 2,f'\\n{n1} x 3 = ', n1 * 3,f'\\n{n1} x 4 = ', n1 * 4,f'\\n{n1} x 5 = ', n1 * 5,f'\\n{n1} x 6 = ', n1 * 6 ,f'\\n{n1} x 7 = ', n1 * 7,f'\\n{n1} x 8 = ', n1 * 8,f'\\n{n1} x 9 = ', n1 * 9,f'\\n{n1} x 10 = ', n1 * 10 )"
      ],
      "metadata": {
        "id": "QDepsxT5iaqT"
      },
      "execution_count": null,
      "outputs": []
    },
    {
      "cell_type": "code",
      "source": [
        "#============== Desafio 06 (Aula 07)==========================\n",
        "d = 4.90\n",
        "n = float(input('Escreva a quantia em reais que você tem R$:'))\n",
        "print(f'Com essa quantia você consegue comprar US$:{n / d :.2f} ')"
      ],
      "metadata": {
        "id": "3-r4QG9_nAOI"
      },
      "execution_count": null,
      "outputs": []
    },
    {
      "cell_type": "code",
      "source": [
        "#============== Desafio 07 ( Aula 07)==========================\n",
        "l = float(input('Digite a largura que tem a parede da sua casa: '))\n",
        "a = float(input('Digite a altura da parede da sua casa: '))\n",
        "b = a * l\n",
        "print(f'A área dessa parede é : {b}m². \\nA quantidade de tinta necessária para pintar essa parede são {b / 2:.2f} litros de tinta')"
      ],
      "metadata": {
        "id": "WBA5GNQRo1Ke"
      },
      "execution_count": null,
      "outputs": []
    },
    {
      "cell_type": "code",
      "source": [
        "#=============== Desafio 08 (Aula 07)==========================\n",
        "p = float(input('Digite o preço de um produto: '))\n",
        "pd = p*95/100\n",
        "print(f'O preço deste produto com 5% de desconto será: {pd:.2f}')"
      ],
      "metadata": {
        "id": "k2D-mStMqovd"
      },
      "execution_count": null,
      "outputs": []
    },
    {
      "cell_type": "code",
      "source": [
        "#=============== Desafio 09 (Aula 07)==========================\n",
        "salario =float(input('Digite seu salário: '))\n",
        "a = salario*115/100\n",
        "print(f'O seu Reajuste salarial foi de 15% de aumento você irá receber: {a:.2f}')"
      ],
      "metadata": {
        "id": "_2zYdazuA3Gp"
      },
      "execution_count": null,
      "outputs": []
    },
    {
      "cell_type": "code",
      "source": [
        "#=============== Desafio 10 (Aula 07)=========================\n",
        "c = float(input('Indique a temperatura atual em °C: '))\n",
        "f = c* 1.8 + 32\n",
        "print(f'A temperatura {c}°C, corresponde a {f:.1f}°F')"
      ],
      "metadata": {
        "id": "Rh28v0h4JaIF"
      },
      "execution_count": null,
      "outputs": []
    },
    {
      "cell_type": "code",
      "source": [
        "#=============== Desafio 11 (Aula 07)==========================\n",
        "km = float(input('Quantos km você rodou com o carro ?: '))\n",
        "d = float(input('Quantos dias você ficou com o carro ?: '))\n",
        "D = 60 * d\n",
        "Km = 0.15 * km\n",
        "print(f'O valor total que você tem a pagar é R$:{ D + Km :.2f}')"
      ],
      "metadata": {
        "id": "P7tGretZKwxz"
      },
      "execution_count": null,
      "outputs": []
    },
    {
      "cell_type": "markdown",
      "source": [
        "## **Aula 08**"
      ],
      "metadata": {
        "id": "f8AP96CbuucV"
      }
    },
    {
      "cell_type": "code",
      "source": [
        "#============= Testes (Aula 08)================================\n",
        "import math\n",
        "num = int(input('Digite um Número: '))\n",
        "raiz = math.sqrt(num)\n",
        "print(f'A raiz de {num} é igual a {raiz:.2f}') #ceil = arredonda pra cima 5.39 = 6\n",
        "\n"
      ],
      "metadata": {
        "id": "2eMATrYCvMHu"
      },
      "execution_count": null,
      "outputs": []
    },
    {
      "cell_type": "code",
      "source": [
        "#===================Testes (08)=================================\n",
        "import random\n",
        "num = random.rand\n",
        "print(num)"
      ],
      "metadata": {
        "id": "oVqO_-uyELil"
      },
      "execution_count": null,
      "outputs": []
    },
    {
      "cell_type": "code",
      "source": [
        "#================ Desafio 01 (Aula 08)===========================\n",
        "num = float(input('Digite um número real: '))\n",
        "print(f'O número que você digitou:{num} tem a parte inteira igual a: {int(num)}')"
      ],
      "metadata": {
        "id": "A2rmgvIyVLNc"
      },
      "execution_count": null,
      "outputs": []
    },
    {
      "cell_type": "code",
      "source": [
        "#=============== Desafio 02 (Aula 08)===========================\n",
        "b= float(input('Digite o valor da base do seu triângulo: '))\n",
        "c= float(input('Digite o valor da parede do seu triângulo: '))\n",
        "a= b ** 2 + c ** 2\n",
        "print(f'O comprimento da hipotenusa é igual a: { a ** (1/2):.2f}')"
      ],
      "metadata": {
        "id": "y28nYmKlXFH2"
      },
      "execution_count": null,
      "outputs": []
    },
    {
      "cell_type": "code",
      "source": [
        "#=============== Desafio 03 (Aula 08)==========================\n",
        "import math\n",
        "an = float(input('Escreva aqui qual o ângulo você quer: '))\n",
        "sen = math.sin(math.radians(an))\n",
        "cos = math.cos(math.radians(an))\n",
        "tan = math.tan(math.radians(an))\n",
        "print(f'O Sen desse ângulo é: {sen:.3f}. \\nO Cos desse ângulo é: {cos:.3f}. \\nA Tan desse ângulo é: {tan:.3f}')\n",
        "\n"
      ],
      "metadata": {
        "id": "eYzg01gCYiTK"
      },
      "execution_count": null,
      "outputs": []
    },
    {
      "cell_type": "code",
      "source": [
        "#=============== Desafio 04 (Aula 08)==========================\n",
        "import random\n",
        "n1 = input('Primeiro aluno: ')\n",
        "n2 = input('Segundo aluno: ')\n",
        "n3 = input('Terceiro aluno: ')\n",
        "n4 = input('Quarto aluno: ')\n",
        "lista = [n1, n2, n3, n4]\n",
        "escolhido = random.choice(lista)\n",
        "print(f'O aluno escolhido foi o: [ {escolhido} ]')"
      ],
      "metadata": {
        "id": "Q8WSv6aUZ8Ga"
      },
      "execution_count": null,
      "outputs": []
    },
    {
      "cell_type": "code",
      "source": [
        "#=============== Desafio 05 (Aula 08)============================\n",
        "import random\n",
        "n1 = input('Aluno: ')\n",
        "n2 = input('Aluno: ')\n",
        "n3 = input('Aluno: ')\n",
        "n4 = input('Aluno: ')\n",
        "lista = [n1, n2, n3, n4]\n",
        "random.shuffle(lista)\n",
        "print(f'A ordem de apresentação será: \\n{lista}')"
      ],
      "metadata": {
        "id": "5oav51Uy7Sy3"
      },
      "execution_count": null,
      "outputs": []
    },
    {
      "cell_type": "markdown",
      "source": [
        "# **Aula 09**"
      ],
      "metadata": {
        "id": "qKg64qKWDtOT"
      }
    },
    {
      "cell_type": "code",
      "source": [
        "#===== TESTES (AULA 09)==================\n",
        "frase = 'Francisco Feliciano Gomes Junior'\n",
        "print(frase[26:32])\n",
        "\n",
        "print(frase.count('c'))\n",
        "#count conta quantas letras que você escolheu ou frase tem no texto\n",
        "print(len(frase.split()))\n",
        "#len conta a quantidade de caracteres que temos\n",
        "#strip tira os espaços vazios tanto antes quanto no fim da frase\n",
        "print(frase.replace('Feliciano', \"D'Ávila\"))\n",
        "#replace troca a frase que você escolheu por outra no lugar\n",
        "print(frase.find('Junior'))\n",
        "#find acha em qual posicão está o caractere que você pediu\n",
        "print(frase.split())\n",
        "\n",
        "#split cria uma lista\n",
        "#.upper deixa todas as letras maiusculas\n",
        "#.lower deixar todas as letras minusculas"
      ],
      "metadata": {
        "id": "Ucl7Xw1LDwsc"
      },
      "execution_count": null,
      "outputs": []
    },
    {
      "cell_type": "code",
      "source": [
        "#============== Desafio 01 (Aula 09)================\n",
        "nome = str(input('Digite seu nome Completo:')).strip()\n",
        "print(f'Esse é seu nome todo maiúculo: {nome.upper()} ')\n",
        "print(f'Esse é seu nome todo minúsculo: {nome.lower()} ')\n",
        "print('Essas são a quantidade de caracteres que ela tem:',len(nome) - nome.count(' '))\n",
        "print(f'Essa é a quantidade que tem a primeira frase: {len(nome.split()[0])}')"
      ],
      "metadata": {
        "id": "vMpG2gd9J613"
      },
      "execution_count": null,
      "outputs": []
    },
    {
      "cell_type": "code",
      "source": [
        "#================ Desafio 02 (Aula 09)=================\n",
        "numero = int(input('Digite um número de 0 a 9999: '))\n",
        "u = numero // 1 % 10\n",
        "d = numero // 10 % 10\n",
        "c = numero // 100 % 10\n",
        "m = numero // 1000 % 10\n",
        "print(f'Analisando o número {numero}. ')\n",
        "print(f'Unidade: {u}')\n",
        "print(f'Dezena: {d}')\n",
        "print(f'Centena: {c}')\n",
        "print(f'Milhar: {m}')\n"
      ],
      "metadata": {
        "id": "SxVew3whQKR5"
      },
      "execution_count": null,
      "outputs": []
    },
    {
      "cell_type": "code",
      "source": [
        "#================ Desafio 03 (Aula 09)=====================\n",
        "cidade = str(input('Em qual cidade você nasceu ? : ')).strip()\n",
        "print(cidade[0:5].upper()=='SANTO')\n"
      ],
      "metadata": {
        "id": "TtrcaoWnRe80"
      },
      "execution_count": null,
      "outputs": []
    },
    {
      "cell_type": "code",
      "source": [
        "#================= Desafio 04 (Aula 09)=====================\n",
        "name = str(input('Digite seu Nome completo: '))\n",
        "print('Seu nome tem \"Silva\" ?', 'SILVA' in name.upper())"
      ],
      "metadata": {
        "id": "17dM-iMEJs-K"
      },
      "execution_count": null,
      "outputs": []
    },
    {
      "cell_type": "code",
      "source": [
        "#================= Desafio 05 (Aula 09)======================\n",
        "texto = str(input('Escreva um texto qualquer: ')).upper().strip()\n",
        "print('A letra \"A\" aparece ', texto.count('A'), ' vezes no texto' )\n",
        "print('A pimeira letra A apareceu na posição ',texto.find('A') + 1 )\n",
        "print('A ultima letra A apareceu na posição ', texto.rfind('A') + 1 )"
      ],
      "metadata": {
        "id": "eDC9CWSPRUxl"
      },
      "execution_count": null,
      "outputs": []
    },
    {
      "cell_type": "code",
      "source": [
        "#================= Desafio 06 (Aula 09)========================\n",
        "nom = str(input('Escreva seu Nome Completo: ')).strip()\n",
        "primeiro = nom.split()\n",
        "print('Muito prazer em te conhecer!')\n",
        "print('Seu primeiro nome é: ',primeiro[0] )\n",
        "print(f'Seu último nome é: {primeiro[len(primeiro)-1 ]} ')\n"
      ],
      "metadata": {
        "id": "9z82cpmt8ynX"
      },
      "execution_count": null,
      "outputs": []
    },
    {
      "cell_type": "code",
      "source": [],
      "metadata": {
        "id": "vgHVsiGLC_Ct"
      },
      "execution_count": null,
      "outputs": []
    }
  ]
}

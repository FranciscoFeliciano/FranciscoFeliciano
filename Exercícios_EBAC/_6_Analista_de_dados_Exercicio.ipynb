{
  "nbformat": 4,
  "nbformat_minor": 0,
  "metadata": {
    "colab": {
      "provenance": [],
      "include_colab_link": true
    },
    "kernelspec": {
      "name": "python3",
      "display_name": "Python 3"
    }
  },
  "cells": [
    {
      "cell_type": "markdown",
      "metadata": {
        "id": "view-in-github",
        "colab_type": "text"
      },
      "source": [
        "<a href=\"https://colab.research.google.com/github/FranciscoFeliciano/FranciscoFeliciano/blob/main/_6_Analista_de_dados_Exercicio.ipynb\" target=\"_parent\"><img src=\"https://colab.research.google.com/assets/colab-badge.svg\" alt=\"Open In Colab\"/></a>"
      ]
    },
    {
      "cell_type": "markdown",
      "metadata": {
        "id": "KJqp9AANOCtf"
      },
      "source": [
        "<img src=\"https://raw.githubusercontent.com/andre-marcos-perez/ebac-course-utils/main/media/logo/newebac_logo_black_half.png\" alt=\"ebac-logo\">\n",
        "\n",
        "---\n",
        "\n",
        "# **Módulo** | Python: Programação Orientada a Objetos\n",
        "Caderno de **Exercícios**<br>\n",
        "Professor [André Perez](https://www.linkedin.com/in/andremarcosperez/)\n",
        "\n",
        "---"
      ]
    },
    {
      "cell_type": "markdown",
      "metadata": {
        "id": "d9jDtUbDOE1-"
      },
      "source": [
        "# **Tópicos**\n",
        "\n",
        "<ol type=\"1\">\n",
        "  <li>Um pouco de teoria;</li>\n",
        "  <li>Classes;</li>\n",
        "  <li>Objetos;</li>\n",
        "  <li>Herança.</li>\n",
        "</ol>"
      ]
    },
    {
      "cell_type": "markdown",
      "metadata": {
        "id": "SmoHgt-lwkpD"
      },
      "source": [
        "---"
      ]
    },
    {
      "cell_type": "markdown",
      "metadata": {
        "id": "GABI6OW8OfQ2"
      },
      "source": [
        "# **Exercícios**"
      ]
    },
    {
      "cell_type": "markdown",
      "metadata": {
        "id": "syVczIAwGO3A"
      },
      "source": [
        "## 0\\. Preparação do ambiente"
      ]
    },
    {
      "cell_type": "markdown",
      "metadata": {
        "id": "2X3TrxdzGO3C"
      },
      "source": [
        "Neste exercício vamos trabalhar com os arquivos de csv e texto definidos abaixo. Execute cada uma das células de código para escrever os arquivos na sua máquina virtual."
      ]
    },
    {
      "cell_type": "markdown",
      "metadata": {
        "id": "u0uFuhRSq_hQ"
      },
      "source": [
        "* **carros.csv**: arquivo csv com informações sobre carros (venda, manutenção, portas, etc.)."
      ]
    },
    {
      "cell_type": "code",
      "metadata": {
        "id": "daMf-xaXqKs2",
        "colab": {
          "base_uri": "https://localhost:8080/"
        },
        "outputId": "9ab80f18-54ff-4f4b-e398-8324d7127c96"
      },
      "source": [
        "%%writefile carros.csv\n",
        "id,valor_venda,valor_manutencao,portas,pessoas,porta_malas\n",
        "1,vhigh,med,2,2,small\n",
        "2,med,vhigh,2,2,small\n",
        "3,low,vhigh,2,2,small\n",
        "4,low,high,2,2,small\n",
        "5,low,high,2,2,small\n",
        "6,low,high,4,4,big\n",
        "7,low,high,4,4,big\n",
        "8,low,med,2,2,small\n",
        "9,low,med,2,2,small\n",
        "10,low,med,2,2,small\n",
        "11,low,med,4,4,big\n",
        "12,low,low,2,2,small\n",
        "13,low,low,4,4,small\n",
        "14,low,low,4,4,med"
      ],
      "execution_count": null,
      "outputs": [
        {
          "output_type": "stream",
          "name": "stdout",
          "text": [
            "Writing carros.csv\n"
          ]
        }
      ]
    },
    {
      "cell_type": "markdown",
      "metadata": {
        "id": "X0Z2PhbCrTz1"
      },
      "source": [
        "* **musica.txt**: arquivo texto com a letra da música Roda Viva do Chico Buarque."
      ]
    },
    {
      "cell_type": "code",
      "metadata": {
        "id": "m7Ge2rggrU73",
        "colab": {
          "base_uri": "https://localhost:8080/"
        },
        "outputId": "d1a310bf-6ab0-4941-ee32-8c92a56b56fa"
      },
      "source": [
        "%%writefile musica.txt\n",
        "Roda Viva\n",
        "Chico Buarque\n",
        "\n",
        "Tem dias que a gente se sente\n",
        "Como quem partiu ou morreu\n",
        "A gente estancou de repente\n",
        "Ou foi o mundo então que cresceu\n",
        "A gente quer ter voz ativa\n",
        "No nosso destino mandar\n",
        "Mas eis que chega a roda viva\n",
        "E carrega o destino pra lá\n",
        "\n",
        "Roda mundo, roda-gigante\n",
        "Roda moinho, roda pião\n",
        "\n",
        "O tempo rodou num instante\n",
        "Nas voltas do meu coração\n",
        "A gente vai contra a corrente\n",
        "Até não poder resistir\n",
        "Na volta do barco é que sente\n",
        "O quanto deixou de cumprir\n",
        "Faz tempo que a gente cultiva\n",
        "A mais linda roseira que há\n",
        "Mas eis que chega a roda viva\n",
        "E carrega a roseira pra lá\n",
        "\n",
        "Roda mundo, roda-gigante\n",
        "Roda moinho, roda pião"
      ],
      "execution_count": null,
      "outputs": [
        {
          "output_type": "stream",
          "name": "stdout",
          "text": [
            "Writing musica.txt\n"
          ]
        }
      ]
    },
    {
      "cell_type": "markdown",
      "metadata": {
        "id": "HV69LMAVGO3J"
      },
      "source": [
        "---"
      ]
    },
    {
      "cell_type": "markdown",
      "metadata": {
        "id": "U4S19ZvHsPcE"
      },
      "source": [
        "## 1\\. Classe para ler arquivos de texto"
      ]
    },
    {
      "cell_type": "markdown",
      "metadata": {
        "id": "HQrKGtoMGjf6"
      },
      "source": [
        "Crie a classe `ArquivoTexto`. Ela deve conter os seguintes atributos:\n",
        "\n",
        "*   `self.arquivo`: Atributo do tipo `str` com o nome do arquivo;\n",
        "*   `self.conteudo`: Atributo do tipo `list` onde cada elemento é uma linha do arquivo;\n",
        "\n",
        "A classe também deve conter o seguinte método:\n",
        "\n",
        "*   `self.extrair_linha`: Método que recebe como parâmetro o número da linha e retorna o seu conteúdo."
      ]
    },
    {
      "cell_type": "code",
      "metadata": {
        "id": "9QFsOQ9ZGXUC"
      },
      "source": [
        "class ArquivoTexto(object):\n",
        "    def __init__(self, nome_arquivo: str):\n",
        "        self.arquivo = nome_arquivo\n",
        "        self.conteudo = self.ler_arquivo()\n",
        "\n",
        "    def ler_arquivo(self):\n",
        "        with open(self.arquivo, 'r', encoding='utf-8') as arquivo:\n",
        "            return arquivo.readlines()\n",
        "\n",
        "    def extrair_linha(self, numero_linha):\n",
        "        if 1 <= numero_linha <= len(self.conteudo):\n",
        "            return self.conteudo[numero_linha - 1]\n",
        "        else:\n",
        "            return f'Linha {numero_linha} não existe no arquivo.'\n"
      ],
      "execution_count": null,
      "outputs": []
    },
    {
      "cell_type": "markdown",
      "metadata": {
        "id": "866OgsyHHw2M"
      },
      "source": [
        "Utilize o código abaixo para testar sua classe."
      ]
    },
    {
      "cell_type": "code",
      "metadata": {
        "id": "_HV_CE7CH8LO",
        "colab": {
          "base_uri": "https://localhost:8080/"
        },
        "outputId": "9544a541-50c0-4378-f013-1ed4b4ffc51b"
      },
      "source": [
        "arquivo_musica = ArquivoTexto('musica.txt')\n",
        "\n",
        "linha_1 = arquivo_musica.extrair_linha(1) # Roda Viva\n",
        "\n",
        "linha_10 = arquivo_musica.extrair_linha(10) # Mas eis que chega a roda viva\n",
        "# Usei outros métodos pois os métodos ensinados nas aulas são complexos demais para um iniciante aprender a \"codar\" sem contar na didática \"incrível\" do professor\n",
        "# Deveriam colocar a moça que estava junto com ele na apresentação do curso para lecionar para agente também (muita gente reclama disso e nada foi feito)\n",
        "print(linha_1)\n",
        "print(linha_10)"
      ],
      "execution_count": null,
      "outputs": [
        {
          "output_type": "stream",
          "name": "stdout",
          "text": [
            "Roda Viva\n",
            "\n",
            "Mas eis que chega a roda viva\n",
            "\n"
          ]
        }
      ]
    },
    {
      "cell_type": "markdown",
      "metadata": {
        "id": "zMN1Q3jdwoJm"
      },
      "source": [
        "---"
      ]
    },
    {
      "cell_type": "markdown",
      "metadata": {
        "id": "aQ8euzThIlLl"
      },
      "source": [
        "## 2\\. Classe para ler arquivos de csv"
      ]
    },
    {
      "cell_type": "markdown",
      "metadata": {
        "id": "EMWhvKAWIlL0"
      },
      "source": [
        "Crie a classe `ArquivoCSV`. Ela deve extender (herdar) a classe `ArquivoTexto` para reaproveitar os seus atributos (`self.arquivo` e `self.conteudo`) e método (`self.extrair_linha`). Além disso, adicione o seguinte atributo:\n",
        "\n",
        "*   `self.colunas`: Atributo do tipo `list` onde os elementos são os nome das colunas;\n",
        "\n",
        "A classe também deve conter o seguinte método:\n",
        "\n",
        "*   `self.extrair_coluna_da_linha`: Método que recebe como parâmetro o numero da linha e o indice da coluna e retorna o valor em questão."
      ]
    },
    {
      "cell_type": "code",
      "metadata": {
        "id": "2r3mfEyYIlL0"
      },
      "source": [
        "class ArquivoCSV(ArquivoTexto):\n",
        "    def __init__(self, nome_arquivo):\n",
        "        super().__init__(nome_arquivo)\n",
        "        self.colunas = self.extrair_colunas()\n",
        "\n",
        "    def extrair_colunas(self):\n",
        "        if self.conteudo:\n",
        "            # Assume que a primeira linha contém os nomes das colunas\n",
        "            return self.conteudo[0].strip().split(',')\n",
        "        return []\n",
        "\n",
        "    def extrair_coluna_da_linha(self, numero_linha, indice_coluna):\n",
        "        if not self.colunas:\n",
        "            return \"Não há colunas definidas.\"\n",
        "\n",
        "        linha = self.extrair_linha(numero_linha).strip().split(',')\n",
        "        if 0 <= indice_coluna < len(self.colunas):\n",
        "            return linha[indice_coluna]\n",
        "        else:\n",
        "            return f\"Índice de coluna {indice_coluna} inválido.\"\n",
        "\n"
      ],
      "execution_count": null,
      "outputs": []
    },
    {
      "cell_type": "markdown",
      "metadata": {
        "id": "jQm_hBETIlL1"
      },
      "source": [
        "Utilize o código abaixo para testar sua classe."
      ]
    },
    {
      "cell_type": "code",
      "metadata": {
        "id": "GKSf1YbcIlL1",
        "colab": {
          "base_uri": "https://localhost:8080/"
        },
        "outputId": "96479f1b-ebf4-4a40-eea8-34179b739e51"
      },
      "source": [
        "arquivo_carros = ArquivoCSV('carros.csv')\n",
        "\n",
        "linha_1 = arquivo_carros.extrair_linha(1)\n",
        "print(linha_1) # id,valor_venda,valor_manutencao,portas,pessoas,porta_malas\n",
        "\n",
        "print(arquivo_carros.colunas) # ['id', 'valor_venda', 'valor_manutencao', 'portas', 'pessoas', 'porta_malas']\n",
        "\n",
        "linha_10 = arquivo_carros.extrair_linha(10) # 9,low,med,2,2,small\n",
        "print(linha_10)\n",
        "\n",
        "print(\"Valor na linha 10, coluna 2:\", arquivo_carros.extrair_coluna_da_linha(10, 1)) # low"
      ],
      "execution_count": null,
      "outputs": [
        {
          "output_type": "stream",
          "name": "stdout",
          "text": [
            "id,valor_venda,valor_manutencao,portas,pessoas,porta_malas\n",
            "\n",
            "['id', 'valor_venda', 'valor_manutencao', 'portas', 'pessoas', 'porta_malas']\n",
            "9,low,med,2,2,small\n",
            "\n",
            "Valor na linha 10, coluna 2: low\n"
          ]
        }
      ]
    },
    {
      "cell_type": "markdown",
      "metadata": {
        "id": "78xH4bWUIlL2"
      },
      "source": [
        "---"
      ]
    }
  ]
}

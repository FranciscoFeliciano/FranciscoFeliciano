{
  "nbformat": 4,
  "nbformat_minor": 0,
  "metadata": {
    "colab": {
      "provenance": [],
      "authorship_tag": "ABX9TyNAysMRBmIxGNEuTXTWQlFQ",
      "include_colab_link": true
    },
    "kernelspec": {
      "name": "python3",
      "display_name": "Python 3"
    },
    "language_info": {
      "name": "python"
    }
  },
  "cells": [
    {
      "cell_type": "markdown",
      "metadata": {
        "id": "view-in-github",
        "colab_type": "text"
      },
      "source": [
        "<a href=\"https://colab.research.google.com/github/FranciscoFeliciano/FranciscoFeliciano/blob/main/Exerc%C3%ADcios_(Guanabara).ipynb\" target=\"_parent\"><img src=\"https://colab.research.google.com/assets/colab-badge.svg\" alt=\"Open In Colab\"/></a>"
      ]
    },
    {
      "cell_type": "code",
      "execution_count": null,
      "metadata": {
        "id": "yDFBspBk4rri"
      },
      "outputs": [],
      "source": [
        "#Exercício 001 (crie um programa \"Olá Mundo\")\n",
        "\n",
        "print('Olá,Mundo!')"
      ]
    },
    {
      "cell_type": "code",
      "source": [
        "#Exercício 002 ( Respondendo ao Usuário )\n",
        "nome = input('Olá, qual é seu nome ? ')\n",
        "print(f'É um prazer te conhecer ,{nome}!')\n",
        "enviar = input(f'Você sabe que quem lhe enviou isso acha você uma pessoa especial ne ? {nome} ')\n",
        "if enviar == 'sim':\n",
        "  print('Jamais entregaria algo ruim pra você meu anjo ')\n",
        "else:\n",
        "  print('É claro que não sabe, é uma jamanta quadrada mais burro que uma porta ')"
      ],
      "metadata": {
        "id": "7Zs9i2cZ7L27"
      },
      "execution_count": null,
      "outputs": []
    },
    {
      "cell_type": "code",
      "source": [
        "#Exercício 003 (Somando dois números)\n",
        "Num_1 = int(input('Escreva um Número : '))\n",
        "Num_2 = int(input('Escreva outro Número : '))\n",
        "Som = Num_1 + Num_2\n",
        "print(f'A soma entre o número {Num_1} e o número {Num_2} é = {Som}')"
      ],
      "metadata": {
        "id": "ekX8DrCy1tgl"
      },
      "execution_count": null,
      "outputs": []
    },
    {
      "cell_type": "code",
      "source": [
        "#Exercício 004 (Dissecando uma Variável)\n",
        "algo = input('Digite algo: ')\n",
        "print(algo,'O tipo primitivo desse algo é ', type(algo))\n",
        "print(algo,'É alfanumérico ? ',algo.isalnum())\n",
        "print(algo,'É Númérico ? ',algo.isnumeric())\n",
        "print(algo,'É alfabético ? ',algo.isalpha())\n",
        "print(algo,'É totalmente Maiúsculo ? ',algo.isupper())\n",
        "print(algo,'Possui números de 0 a 9?', algo.isdecimal())"
      ],
      "metadata": {
        "id": "06vxkZWy69r9"
      },
      "execution_count": null,
      "outputs": []
    },
    {
      "cell_type": "code",
      "source": [
        "#Exercício 005 (Antecessor e Sucessor)\n",
        "n1 = int(input('Digite um Número : '))\n",
        "suc = n1 + 1\n",
        "ant = n1 - 1\n",
        "print(f'O número que você digitou é {n1}\\nO valor que é sucessor a ele é o {suc}, e o antecessor é {ant}')"
      ],
      "metadata": {
        "id": "7-99fWhRBWD7"
      },
      "execution_count": null,
      "outputs": []
    },
    {
      "cell_type": "code",
      "source": [
        "#Exercício 006 (Dobro, Triplo, RaizQ)\n",
        "n1 = float(input('Digite um Número : '))\n",
        "dob = n1 * 2\n",
        "trip = n1 * 3\n",
        "rq = n1**(1/2)\n",
        "print(f'O número que você digitou é: {n1} \\nO dobro desse número é: {dob} \\nO triplo é: {trip} \\ne sua Raiz Quadrada é {rq :.3f}  ')"
      ],
      "metadata": {
        "id": "4tekd8wICFLY"
      },
      "execution_count": null,
      "outputs": []
    },
    {
      "cell_type": "code",
      "source": [
        "#Exercício 007 (Média Aritmética)\n",
        "n1 = float(input('Digite sua Nota no primeiro semestre: '))\n",
        "n2 = float(input('Digite sua Nota do segundo semestre: '))\n",
        "m = (n1 + n2) / 2\n",
        "print(f'Sua média no ano foi {m:.2f} ')"
      ],
      "metadata": {
        "id": "zxmduNE8DbHY"
      },
      "execution_count": null,
      "outputs": []
    },
    {
      "cell_type": "code",
      "source": [
        "#Exercício 008 (Conversor de Medidas)\n",
        "m = float(input('Digite quantos metros de fita você quer: '))\n",
        "cm = m * 100\n",
        "mm = m * 1000\n",
        "print(f'Você pediu {m} metros de fita,\\nCorresponde a {cm} centímetros \\nOu {mm} milímetros')"
      ],
      "metadata": {
        "id": "HusL5KC3GmnY"
      },
      "execution_count": null,
      "outputs": []
    },
    {
      "cell_type": "code",
      "source": [
        "#Exercício 009 (Tabuada)\n",
        "n1 = int(input('Digite o Número para tabuada: '))\n",
        "print(f'Tabuada\\n{n1} x 1 = ', n1 * 1,f'\\n{n1} x 2 = ', n1 * 2,f'\\n{n1} x 3 = ', n1 * 3,f'\\n{n1} x 4 = ', n1 * 4,f'\\n{n1} x 5 = ', n1 * 5,f'\\n{n1} x 6 = ', n1 * 6 ,f'\\n{n1} x 7 = ', n1 * 7,f'\\n{n1} x 8 = ', n1 * 8,f'\\n{n1} x 9 = ', n1 * 9,f'\\n{n1} x 10 = ', n1 * 10 )"
      ],
      "metadata": {
        "id": "87tNqvlZG9rc"
      },
      "execution_count": null,
      "outputs": []
    },
    {
      "cell_type": "code",
      "source": [
        "#Exercício 010 (Conversor de Moedas)\n",
        "d = 4.90\n",
        "n = float(input('Escreva a quantia em reais que você tem R$:'))\n",
        "print(f'Com essa quantia você consegue comprar US$:{n / d :.2f} ')"
      ],
      "metadata": {
        "id": "sveLY8IOINFo"
      },
      "execution_count": null,
      "outputs": []
    },
    {
      "cell_type": "code",
      "source": [
        "#Exercício 011 (Pintando Parede)\n",
        "l = float(input('Digite a largura que tem a parede da sua casa: '))\n",
        "a = float(input('Digite a altura da parede da sua casa: '))\n",
        "b = a * l\n",
        "print(f'A área dessa parede é : {b}m². \\nA quantidade de tinta necessária para pintar essa parede são {b / 2:.2f} litros de tinta')"
      ],
      "metadata": {
        "id": "rkDHFoHlJc7j"
      },
      "execution_count": null,
      "outputs": []
    },
    {
      "cell_type": "code",
      "source": [
        "#Exercício 012 (Calculando descontos)\n",
        "p = float(input('Digite o preço de um produto: '))\n",
        "pd = p*95/100\n",
        "print(f'O preço deste produto com 5% de desconto será: {pd:.2f}')"
      ],
      "metadata": {
        "id": "aIeiI7gHLeMT"
      },
      "execution_count": null,
      "outputs": []
    },
    {
      "cell_type": "code",
      "source": [
        "#Exercício 013 (Reajuste Salarial)\n",
        "salario =float(input('Digite seu salário: '))\n",
        "a = salario*115/100\n",
        "print(f'O seu Reajuste salarial foi de 15% de aumento você irá receber: {a:.2f}')"
      ],
      "metadata": {
        "id": "xB2ZXnZgPdgW"
      },
      "execution_count": null,
      "outputs": []
    },
    {
      "cell_type": "code",
      "source": [
        "#Exercício 014 (Conversor de temperaturas)\n",
        "c = float(input('Indique a temperatura atual em °C: '))\n",
        "f = c* 1.8 + 32\n",
        "print(f'A temperatura {c}°C, corresponde a {f:.1f}°F')"
      ],
      "metadata": {
        "id": "_4WMiY5JODa-"
      },
      "execution_count": null,
      "outputs": []
    },
    {
      "cell_type": "code",
      "source": [
        "#Exercício 015 (Alguel de Carros)\n",
        "km = float(input('Quantos km você rodou com o carro ?: '))\n",
        "d = float(input('Quantos dias você ficou com o carro ?: '))\n",
        "D = 60 * d\n",
        "Km = 0.15 * km\n",
        "print(f'O valor total que você tem a pagar é R$:{ D + Km :.2f}')"
      ],
      "metadata": {
        "id": "gKj1Iq6JOPfQ"
      },
      "execution_count": null,
      "outputs": []
    },
    {
      "cell_type": "code",
      "source": [
        "#Exercício 016 (Quebrando um Número)\n",
        "num = float(input('Digite um número real: '))\n",
        "print(f'O número que você digitou:{num} tem a parte inteira igual a: {int(num)}')"
      ],
      "metadata": {
        "id": "Z_jUdmUOuIoB"
      },
      "execution_count": null,
      "outputs": []
    },
    {
      "cell_type": "code",
      "source": [
        "#Exercício 017 (Cateto, Cateto e Hipotenusa)\n",
        "b= float(input('Digite o valor do cateto opo do seu triângulo: '))\n",
        "c= float(input('Digite o valor do cateto adj do seu triângulo: '))\n",
        "a= b ** 2 + c ** 2\n",
        "print(f'O comprimento da hipotenusa é igual a: { a ** (1/2):.2f}')"
      ],
      "metadata": {
        "id": "_P0IfRrUuPT9"
      },
      "execution_count": null,
      "outputs": []
    },
    {
      "cell_type": "code",
      "source": [
        "#Exercício 018 (Seno,Cosseno,Tangente)\n",
        "import math\n",
        "an = float(input('Escreva aqui qual o ângulo você quer: '))\n",
        "sen = math.sin(math.radians(an))\n",
        "cos = math.cos(math.radians(an))\n",
        "tan = math.tan(math.radians(an))\n",
        "print(f'O Sen desse ângulo é: {sen:.3f}. \\nO Cos desse ângulo é: {cos:.3f}. \\nA Tan desse ângulo é: {tan:.3f}')"
      ],
      "metadata": {
        "id": "5QO66PcOvKA6"
      },
      "execution_count": null,
      "outputs": []
    },
    {
      "cell_type": "code",
      "source": [
        "#Exercício 019 (Sorteando uma pessoa da sala)\n",
        "import random\n",
        "n1 = input('Primeiro aluno: ')\n",
        "n2 = input('Segundo aluno: ')\n",
        "n3 = input('Terceiro aluno: ')\n",
        "n4 = input('Quarto aluno: ')\n",
        "lista = [n1, n2, n3, n4]\n",
        "escolhido = random.choice(lista)\n",
        "print(f'O aluno escolhido foi o: [ {escolhido} ]')"
      ],
      "metadata": {
        "id": "HBLuM4Jk7Cxm"
      },
      "execution_count": null,
      "outputs": []
    },
    {
      "cell_type": "code",
      "source": [
        "#Exercício 020 (Sorteando a ordem dos grupos )\n",
        "n1 = input('Aluno: ')\n",
        "n2 = input('Aluno: ')\n",
        "n3 = input('Aluno: ')\n",
        "n4 = input('Aluno: ')\n",
        "lista = [n1, n2, n3, n4]\n",
        "random.shuffle(lista)\n",
        "print(f'A ordem de apresentação será: \\n{lista}')"
      ],
      "metadata": {
        "id": "KG046j5z9Mht"
      },
      "execution_count": null,
      "outputs": []
    },
    {
      "cell_type": "code",
      "source": [
        "#Exercício 022 (Analisador de Textos)\n",
        "nome = str(input('Digite seu nome Completo:')).strip()\n",
        "print(f'Esse é seu nome todo maiúculo: {nome.upper()} ')\n",
        "print(f'Esse é seu nome todo minúsculo: {nome.lower()} ')\n",
        "print('Essas são a quantidade de caracteres que ela tem:',len(nome) - nome.count(' '))\n",
        "print(f'Essa é a quantidade que tem o primeiro nome: {len(nome.split()[0])}')"
      ],
      "metadata": {
        "id": "DaI1w3w5Hubr"
      },
      "execution_count": null,
      "outputs": []
    },
    {
      "cell_type": "code",
      "source": [
        "#Exercício 023 (Unidade , Dezena, Centena e Milhares)\n",
        "numero = int(input('Digite um número de 0 a 9999: '))\n",
        "u = numero // 1 % 10\n",
        "d = numero // 10 % 10\n",
        "c = numero // 100 % 10\n",
        "m = numero // 1000 % 10\n",
        "print(f'Analisando o número {numero}. ')\n",
        "print(f'Unidade: {u}')\n",
        "print(f'Dezena: {d}')\n",
        "print(f'Centena: {c}')\n",
        "print(f'Milhar: {m}')\n"
      ],
      "metadata": {
        "id": "Rgw_qzsxIFXT"
      },
      "execution_count": null,
      "outputs": []
    },
    {
      "cell_type": "code",
      "source": [
        "#Exercício 024 (verificando nome das cidades)\n",
        "cidade = str(input('Em qual cidade você nasceu ? : ')).strip()\n",
        "print(cidade[0:5].upper()=='SANTO')"
      ],
      "metadata": {
        "id": "w-Xz7_PNITXR"
      },
      "execution_count": null,
      "outputs": []
    },
    {
      "cell_type": "code",
      "source": [
        "#Exercício 025 (Procurando uma string dentro de outra)\n",
        "name = str(input('Digite seu Nome completo: '))\n",
        "print('Seu nome tem \"Silva\" ?', 'SILVA' in name.upper())"
      ],
      "metadata": {
        "id": "sfDbZzyfIhsf"
      },
      "execution_count": null,
      "outputs": []
    },
    {
      "cell_type": "code",
      "source": [
        "#Excerício 026 (Primero e Última ocorrência)\n",
        "texto = str(input('Escreva um texto qualquer: ')).upper().strip()\n",
        "print('A letra \"A\" aparece ', texto.count('A'), ' vezes no texto' )\n",
        "print('A pimeira letra A apareceu na posição ',texto.find('A') + 1 )\n",
        "print('A ultima letra A apareceu na posição ', texto.rfind('A') + 1 )"
      ],
      "metadata": {
        "id": "BOUtXci7KqB_"
      },
      "execution_count": null,
      "outputs": []
    },
    {
      "cell_type": "code",
      "source": [
        "#Exercício 027 (Primeiro e Ultimo sobrenome)\n",
        "nom = str(input('Escreva seu Nome Completo: ')).strip()\n",
        "primeiro = nom.split()\n",
        "print('Muito prazer em te conhecer!')\n",
        "print('Seu primeiro nome é: ',primeiro[0] )\n",
        "print(f'Seu último nome é: {primeiro[len(primeiro)-1 ]} ')"
      ],
      "metadata": {
        "id": "N4vYdGdELJ3Y"
      },
      "execution_count": null,
      "outputs": []
    }
  ]
}
